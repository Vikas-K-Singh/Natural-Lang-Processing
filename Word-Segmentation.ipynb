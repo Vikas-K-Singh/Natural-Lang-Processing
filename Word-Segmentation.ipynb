{
 "cells": [
  {
   "cell_type": "code",
   "execution_count": 1,
   "metadata": {},
   "outputs": [
    {
     "name": "stdout",
     "output_type": "stream",
     "text": [
      "['indian', 'elections', '2019']\n",
      "['100', 'days', 'of', 'code']\n"
     ]
    }
   ],
   "source": [
    "# -*- coding: utf-8 -*-\n",
    "\"\"\"\n",
    "Created on Wed Mar 10 12:21:03 2019\n",
    "\n",
    "@author: Vikas Singh\n",
    "Let’s say you have a huge Twitter dataset. How will you build a word segmentation algorithm for the most trending HashTags.\n",
    "For instance how will you decompose #IndianElections2019 to “Indian Elections 2019” or #100daysofcode to “100 days of code”.\n",
    "\"\"\"\n",
    "#Two Files count_1w.txt and count_2w.txt required\n",
    "import re, string, random, glob, operator, heapq\n",
    "from collections import defaultdict\n",
    "from math import log10\n",
    "from functools import reduce\n",
    "\n",
    "def segment(text):\n",
    "    text=text.lower()\n",
    "    text=text.strip('#')\n",
    "    \"Return a list of words that is the best segmentation of text.\"\n",
    "    if not text: return []\n",
    "    candidates = ([first]+segment(rem) for first,rem in splits(text))\n",
    "    return max(candidates, key=Pwords)\n",
    "\n",
    "def splits(text, L=20):\n",
    "    \"Return a list of all possible (first, rem) pairs, len(first)<=L.\"\n",
    "    return [(text[:i+1], text[i+1:]) \n",
    "            for i in range(min(len(text), L))]\n",
    "\n",
    "def Pwords(words): \n",
    "    \"The Naive Bayes probability of a sequence of words.\"\n",
    "    return product(Pw(w) for w in words)\n",
    "def product(nums):\n",
    "    \"Return the product of a sequence of numbers.\"\n",
    "    return reduce(operator.mul, nums, 1)\n",
    "\n",
    "class Pdist(dict):\n",
    "    \"A probability distribution estimated from counts in datafile.\"\n",
    "    def __init__(self, data=[], N=None, missingfn=None):\n",
    "        for key,count in data:\n",
    "            self[key] = self.get(key, 0) + int(count)\n",
    "        self.N = float(N or sum(self.itervalues()))\n",
    "        self.missingfn = missingfn or (lambda k, N: 1./N)\n",
    "    def __call__(self, key): \n",
    "        if key in self: return self[key]/self.N  \n",
    "        else: return self.missingfn(key, self.N)\n",
    "\n",
    "def datafile(name, sep='\\t'):\n",
    "    \"Read key,value pairs from file.\"\n",
    "    f = open(name, \"r\")\n",
    "    for line in f:\n",
    "        yield line.split(sep)\n",
    "\n",
    "def avoid_long_words(key, N):\n",
    "    \"Estimate the probability of an unknown word.\"\n",
    "    return 10./(N * 10**len(key))\n",
    "\n",
    "N = 1024908267229 ## Number of tokens\n",
    "\n",
    "Pw  = Pdist(datafile('count_1w.txt'), N, avoid_long_words)\n",
    "\n",
    "#### segment2: second version, with bigram counts\n",
    "\n",
    "def cPw(word, prev):\n",
    "    \"Conditional probability of word, given previous word.\"\n",
    "    try:\n",
    "        return P2w[prev + ' ' + word]/float(Pw[prev])\n",
    "    except KeyError:\n",
    "        return Pw(word)\n",
    "\n",
    "P2w = Pdist(datafile('count_2w.txt'), N)\n",
    "\n",
    " \n",
    "def segment2(text, prev='<S>'): \n",
    "    \"Return (log P(words), words), where words is the best segmentation.\" \n",
    "    if not text: return 0.0, [] \n",
    "    candidates = [combine(log10(cPw(first, prev)), first, segment2(rem, first)) \n",
    "                  for first,rem in splits(text)] \n",
    "    return max(candidates) \n",
    "\n",
    "text='#IndianElections2019'\n",
    "print(segment(text))\n",
    "text='#100daysofcode'\n",
    "print(segment(text))\n"
   ]
  },
  {
   "cell_type": "code",
   "execution_count": 2,
   "metadata": {},
   "outputs": [
    {
     "name": "stdout",
     "output_type": "stream",
     "text": [
      "['india', 'vs', 'australia']\n"
     ]
    }
   ],
   "source": [
    "text='#IndiavsAustralia'\n",
    "print(segment(text))"
   ]
  }
 ],
 "metadata": {
  "kernelspec": {
   "display_name": "Python 3",
   "language": "python",
   "name": "python3"
  },
  "language_info": {
   "codemirror_mode": {
    "name": "ipython",
    "version": 3
   },
   "file_extension": ".py",
   "mimetype": "text/x-python",
   "name": "python",
   "nbconvert_exporter": "python",
   "pygments_lexer": "ipython3",
   "version": "3.7.1"
  }
 },
 "nbformat": 4,
 "nbformat_minor": 2
}
